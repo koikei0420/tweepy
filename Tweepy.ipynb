{
  "nbformat": 4,
  "nbformat_minor": 0,
  "metadata": {
    "colab": {
      "name": "Tweepy.ipynb",
      "version": "0.3.2",
      "provenance": [],
      "collapsed_sections": []
    },
    "kernelspec": {
      "name": "python3",
      "display_name": "Python 3"
    }
  },
  "cells": [
    {
      "cell_type": "markdown",
      "metadata": {
        "id": "Hx7CI5ZBV7-7",
        "colab_type": "text"
      },
      "source": [
        "# Tweepyでfollowerの共通部分を取得\n",
        "## API.friends_ids(id/screen_name/user_id[, cursor]) return list of Integers\n",
        "- **id**がフォローしている人のidを返す\n",
        "- [Doc](https://kurozumi.github.io/tweepy/api.html?highlight=cursor#API.friends_ids)\n",
        "- **id** – Specifies the ID or screen name of the user.\n",
        "- **screen_name** – Specifies the screen name of the user. Helpful for disambiguating when a valid screen name is also a user ID.\n",
        "- **user_id** – Specifies the ID of the user. Helpful for disambiguating when a valid user ID is also a valid screen name.\n",
        "- **cursor** – Breaks the results into pages. Provide a value of -1 to begin paging. Provide values as returned to in the response body’s next_cursor and previous_cursor attributes to page back and forth in the list.\n",
        "\n",
        "## API.followers_ids(id/screen_name/user_id) return list of Integers\n",
        "- **id**をフォローしている人のidを返す\n",
        "- [Doc](https://kurozumi.github.io/tweepy/api.html?highlight=cursor#API.followers_ids)\n",
        "- **id** – Specifies the ID or screen name of the user.\n",
        "- **screen_name** – Specifies the screen name of the user. Helpful for disambiguating when a valid screen name is also a user ID.\n",
        "- **user_id** – Specifies the ID of the user. Helpful for disambiguating when a valid user ID is also a valid screen name.\n",
        "- **cursor** – Breaks the results into pages. Provide a value of -1 to begin paging. Provide values as returned to in the response body’s next_cursor and previous_cursor attributes to page back and forth in the list.\n",
        "\n",
        "\n",
        "## lookup_users\n",
        "- 一度に100件までユーザー情報を取得できる\n",
        "- リファレンスにはないが、ソースコードには存在↓\n",
        "- [Doc](https://github.com/tweepy/tweepy/blob/fdf133184a918a64a0853dc52bffddc90570dcfa/tweepy/api.py#L310-L321)\n",
        "```python\n",
        "def lookup_users(self, user_ids=None, screen_names=None, include_entities=None):\n",
        "        \"\"\" Perform bulk look up of users from user ID or screenname \"\"\"\n",
        "        post_data = {}\n",
        "        if include_entities is not None:\n",
        "            include_entities = 'true' if include_entities else 'false'\n",
        "            post_data['include_entities'] = include_entities\n",
        "        if user_ids:\n",
        "            post_data['user_id'] = list_to_csv(user_ids)\n",
        "        if screen_names:\n",
        "            post_data['screen_name'] = list_to_csv(screen_names)\n",
        "\n",
        "        return self._lookup_users(post_data=post_data)\n",
        "```"
      ]
    },
    {
      "cell_type": "code",
      "metadata": {
        "id": "ZTTudKnevTfv",
        "colab_type": "code",
        "colab": {}
      },
      "source": [
        "import tweepy\n",
        "import pandas as pd\n",
        "from google.colab import files"
      ],
      "execution_count": 0,
      "outputs": []
    },
    {
      "cell_type": "code",
      "metadata": {
        "id": "GqD6dH_sQE-s",
        "colab_type": "code",
        "colab": {}
      },
      "source": [
        "def my_auth (consumer_key, consumer_secret, access_token, access_token_secret):\n",
        "  auth = tweepy.OAuthHandler(consumer_key, consumer_secret)\n",
        "  auth.set_access_token(access_token, access_token_secret)\n",
        "  return tweepy.API(auth)\n",
        "\n",
        "def friends_common_part(api, *args):\n",
        "  candidate_dict = {}\n",
        "  if len(args) < 2:\n",
        "    return \"error\"\n",
        "  \n",
        "  common_set = set(api.friends_ids(args[0]))\n",
        "  for i in range(1, len(args)):\n",
        "    common_set = common_set & set(api.friends_ids(args[i]))\n",
        "  common_list = list(common_set)\n",
        "  \n",
        "  for i in range(0, len(common_list), 100):\n",
        "    for user in api.lookup_users(user_ids=common_list[i:i+100]):\n",
        "      candidate_dict[user.id] = {}\n",
        "      candidate_dict[user.id]['name'] = user.name\n",
        "      candidate_dict[user.id]['twitter_page'] = 'https://twitter.com/' + user.screen_name\n",
        "      candidate_dict[user.id]['my_page'] = user.url\n",
        "      candidate_dict[user.id]['description'] = user.description\n",
        "  return candidate_dict\n",
        "\n",
        "def followers_common_part(api, *args):\n",
        "  candidate_dict = {}\n",
        "  if len(args) < 2:\n",
        "    return \"error\"\n",
        "  \n",
        "  common_set = set(api.friends_ids(args[0]))\n",
        "  for i in range(1, len(args)):\n",
        "    common_set = common_set & set(api.followers_ids(args[i]))\n",
        "  \n",
        "  common_list = list(common_set)\n",
        "  \n",
        "  for i in range(0, len(common_list), 100):\n",
        "    for user in api.lookup_users(user_ids=common_list[i:i+100]):\n",
        "      candidate_dict[user.id] = {}\n",
        "      candidate_dict[user.id]['name'] = user.name\n",
        "      candidate_dict[user.id]['twitter_page'] = 'https://twitter.com/' + user.screen_name\n",
        "      candidate_dict[user.id]['my_page'] = user.url\n",
        "      candidate_dict[user.id]['description'] = user.description\n",
        "  return candidate_dict"
      ],
      "execution_count": 0,
      "outputs": []
    },
    {
      "cell_type": "markdown",
      "metadata": {
        "id": "fDpGYIHZx-mf",
        "colab_type": "text"
      },
      "source": [
        "↓ あまり実行しすぎると 15分の通信制限がかかるので注意\n",
        "（APIを叩く処理のみ）"
      ]
    },
    {
      "cell_type": "code",
      "metadata": {
        "id": "hJ1TfumiiT5o",
        "colab_type": "code",
        "colab": {}
      },
      "source": [
        "# Twitter Developer Account Credentials\n",
        "consumer_key = 'hogehoge'\n",
        "consumer_secret = 'hogehoge'\n",
        "access_token = 'hogehoge'\n",
        "access_token_secret = 'hogehoge'\n",
        "  \n",
        "# 影響力のある人のID（複数人可能）\n",
        "user_ids = [\n",
        "    'genya0407',\n",
        "#     'EbiEbiEvidence', #ebiebi消えたっぽい\n",
        "    'ko_watanabe_tw',\n",
        "    'alohat_jp'\n",
        "]\n",
        "\n",
        "#上アカウントがフォローしている人の共通部分\n",
        "candidate_friends = friends_common_part(\n",
        "    my_auth(consumer_key, consumer_secret, access_token, access_token_secret),\n",
        "    *user_ids\n",
        ")"
      ],
      "execution_count": 0,
      "outputs": []
    },
    {
      "cell_type": "markdown",
      "metadata": {
        "id": "8xhINzM9ybob",
        "colab_type": "text"
      },
      "source": [
        "↓表の表示（API関係なし）"
      ]
    },
    {
      "cell_type": "code",
      "metadata": {
        "id": "QBMmy9Ar35nh",
        "colab_type": "code",
        "outputId": "f96b2e30-05a3-452c-c67b-1c36af5c62ec",
        "colab": {
          "base_uri": "https://localhost:8080/",
          "height": 421
        }
      },
      "source": [
        "candidate_friends_df = pd.DataFrame(candidate_friends).T[['name','twitter_page','description','my_page']]\n",
        "candidate_friends_df"
      ],
      "execution_count": 0,
      "outputs": [
        {
          "output_type": "execute_result",
          "data": {
            "text/html": [
              "<div>\n",
              "<style scoped>\n",
              "    .dataframe tbody tr th:only-of-type {\n",
              "        vertical-align: middle;\n",
              "    }\n",
              "\n",
              "    .dataframe tbody tr th {\n",
              "        vertical-align: top;\n",
              "    }\n",
              "\n",
              "    .dataframe thead th {\n",
              "        text-align: right;\n",
              "    }\n",
              "</style>\n",
              "<table border=\"1\" class=\"dataframe\">\n",
              "  <thead>\n",
              "    <tr style=\"text-align: right;\">\n",
              "      <th></th>\n",
              "      <th>name</th>\n",
              "      <th>twitter_page</th>\n",
              "      <th>description</th>\n",
              "      <th>my_page</th>\n",
              "    </tr>\n",
              "  </thead>\n",
              "  <tbody>\n",
              "    <tr>\n",
              "      <th>1055057801951596544</th>\n",
              "      <td>tatatatataro</td>\n",
              "      <td>https://twitter.com/taro_jxv_happy</td>\n",
              "      <td>🎾🏂🍻🥟🇳🇵☀️</td>\n",
              "      <td>https://t.co/4u3d2irH9h</td>\n",
              "    </tr>\n",
              "    <tr>\n",
              "      <th>1112714694588928000</th>\n",
              "      <td>社会的ミーくん</td>\n",
              "      <td>https://twitter.com/knock_9999</td>\n",
              "      <td>三茶の殺し屋 500yen/man</td>\n",
              "      <td>None</td>\n",
              "    </tr>\n",
              "    <tr>\n",
              "      <th>1113768585577488384</th>\n",
              "      <td>Shota Hashimoto</td>\n",
              "      <td>https://twitter.com/shotaH_tw</td>\n",
              "      <td>見習いengineer/figure skate お気軽にフォローしてくださいませ〜</td>\n",
              "      <td>None</td>\n",
              "    </tr>\n",
              "    <tr>\n",
              "      <th>1113818641336688641</th>\n",
              "      <td>NakaS</td>\n",
              "      <td>https://twitter.com/StartedTwittter</td>\n",
              "      <td>何かになりたい渋谷のエンジニア</td>\n",
              "      <td>None</td>\n",
              "    </tr>\n",
              "    <tr>\n",
              "      <th>15312900</th>\n",
              "      <td>chokudai(高橋 直大)🍆🍡🌸</td>\n",
              "      <td>https://twitter.com/chokudai</td>\n",
              "      <td>AtCoder(株)代表取締役社長(競技プログラミングの会社)/筑駒中高→慶應SFC/競プロ...</td>\n",
              "      <td>http://t.co/3temA9ZeaS</td>\n",
              "    </tr>\n",
              "    <tr>\n",
              "      <th>521513445</th>\n",
              "      <td>ばんり / Banri Yanahama</td>\n",
              "      <td>https://twitter.com/banri_yanahama</td>\n",
              "      <td>京大院卒 / DeNA / エンジニア / 機械学習</td>\n",
              "      <td>None</td>\n",
              "    </tr>\n",
              "    <tr>\n",
              "      <th>1112926435977523201</th>\n",
              "      <td>はっしー</td>\n",
              "      <td>https://twitter.com/kure4_Mars</td>\n",
              "      <td>尋常じゃないくらいゲームしてて気づいたらゲームエンジニアになってたです</td>\n",
              "      <td>None</td>\n",
              "    </tr>\n",
              "    <tr>\n",
              "      <th>2819366924</th>\n",
              "      <td>スイ</td>\n",
              "      <td>https://twitter.com/uni745e</td>\n",
              "      <td>AtCoder: 水、Pythonで競プロしてます</td>\n",
              "      <td>None</td>\n",
              "    </tr>\n",
              "    <tr>\n",
              "      <th>36297164</th>\n",
              "      <td>えじ｜Amane Suzuki</td>\n",
              "      <td>https://twitter.com/SakuEji</td>\n",
              "      <td>DeNAでデータサイエンティストをしています。Kaggle Master。AtCoder水色...</td>\n",
              "      <td>https://t.co/b3U8GaCsQ0</td>\n",
              "    </tr>\n",
              "    <tr>\n",
              "      <th>5787442</th>\n",
              "      <td>yhirano55</td>\n",
              "      <td>https://twitter.com/yoshi_hirano</td>\n",
              "      <td>Freelance Programmer / a.k.a. カルパス / 柴犬 / 音楽: ...</td>\n",
              "      <td>https://t.co/mo3uxmP7pQ</td>\n",
              "    </tr>\n",
              "    <tr>\n",
              "      <th>2332514653</th>\n",
              "      <td>かちゃ</td>\n",
              "      <td>https://twitter.com/karrrrraage</td>\n",
              "      <td>ガチで渋谷OLやってます / チャイニーズ / アメリカンドッグ・ノンシリコンシャンプー・ク...</td>\n",
              "      <td>None</td>\n",
              "    </tr>\n",
              "    <tr>\n",
              "      <th>1883167934</th>\n",
              "      <td>Takumi Karasawa</td>\n",
              "      <td>https://twitter.com/zaki_krsw</td>\n",
              "      <td>Harada Lab., UTokyo / AI Research Engineer at ...</td>\n",
              "      <td>https://t.co/jIZfJKw9my</td>\n",
              "    </tr>\n",
              "  </tbody>\n",
              "</table>\n",
              "</div>"
            ],
            "text/plain": [
              "                                     name  ...                  my_page\n",
              "1055057801951596544          tatatatataro  ...  https://t.co/4u3d2irH9h\n",
              "1112714694588928000               社会的ミーくん  ...                     None\n",
              "1113768585577488384       Shota Hashimoto  ...                     None\n",
              "1113818641336688641                 NakaS  ...                     None\n",
              "15312900               chokudai(高橋 直大)🍆🍡🌸  ...   http://t.co/3temA9ZeaS\n",
              "521513445            ばんり / Banri Yanahama  ...                     None\n",
              "1112926435977523201                  はっしー  ...                     None\n",
              "2819366924                             スイ  ...                     None\n",
              "36297164                  えじ｜Amane Suzuki  ...  https://t.co/b3U8GaCsQ0\n",
              "5787442                         yhirano55  ...  https://t.co/mo3uxmP7pQ\n",
              "2332514653                            かちゃ  ...                     None\n",
              "1883167934                Takumi Karasawa  ...  https://t.co/jIZfJKw9my\n",
              "\n",
              "[12 rows x 4 columns]"
            ]
          },
          "metadata": {
            "tags": []
          },
          "execution_count": 45
        }
      ]
    },
    {
      "cell_type": "code",
      "metadata": {
        "id": "GXsp-mAa322s",
        "colab_type": "code",
        "colab": {}
      },
      "source": [
        "#上アカウントをフォローしている人の共通部分\n",
        "candidate_followers = followers_common_part(\n",
        "    my_auth(consumer_key, consumer_secret, access_token, access_token_secret),\n",
        "    *user_ids\n",
        ")"
      ],
      "execution_count": 0,
      "outputs": []
    },
    {
      "cell_type": "code",
      "metadata": {
        "id": "XClVp14XyHCX",
        "colab_type": "code",
        "outputId": "2ef25bfb-6a34-4be5-808d-6967fa2073b3",
        "colab": {
          "base_uri": "https://localhost:8080/",
          "height": 359
        }
      },
      "source": [
        "candidate_followers_df = pd.DataFrame(candidate_followers).T[['name','twitter_page','description','my_page']]\n",
        "candidate_followers_df"
      ],
      "execution_count": 0,
      "outputs": [
        {
          "output_type": "execute_result",
          "data": {
            "text/html": [
              "<div>\n",
              "<style scoped>\n",
              "    .dataframe tbody tr th:only-of-type {\n",
              "        vertical-align: middle;\n",
              "    }\n",
              "\n",
              "    .dataframe tbody tr th {\n",
              "        vertical-align: top;\n",
              "    }\n",
              "\n",
              "    .dataframe thead th {\n",
              "        text-align: right;\n",
              "    }\n",
              "</style>\n",
              "<table border=\"1\" class=\"dataframe\">\n",
              "  <thead>\n",
              "    <tr style=\"text-align: right;\">\n",
              "      <th></th>\n",
              "      <th>name</th>\n",
              "      <th>twitter_page</th>\n",
              "      <th>description</th>\n",
              "      <th>my_page</th>\n",
              "    </tr>\n",
              "  </thead>\n",
              "  <tbody>\n",
              "    <tr>\n",
              "      <th>1113768585577488384</th>\n",
              "      <td>Shota Hashimoto</td>\n",
              "      <td>https://twitter.com/shotaH_tw</td>\n",
              "      <td>見習いengineer/figure skate お気軽にフォローしてくださいませ〜</td>\n",
              "      <td>None</td>\n",
              "    </tr>\n",
              "    <tr>\n",
              "      <th>1055057801951596544</th>\n",
              "      <td>tatatatataro</td>\n",
              "      <td>https://twitter.com/taro_jxv_happy</td>\n",
              "      <td>🎾🏂🍻🥟🇳🇵☀️</td>\n",
              "      <td>https://t.co/4u3d2irH9h</td>\n",
              "    </tr>\n",
              "    <tr>\n",
              "      <th>1112926435977523201</th>\n",
              "      <td>はっしー</td>\n",
              "      <td>https://twitter.com/kure4_Mars</td>\n",
              "      <td>尋常じゃないくらいゲームしてて気づいたらゲームエンジニアになってたです</td>\n",
              "      <td>None</td>\n",
              "    </tr>\n",
              "    <tr>\n",
              "      <th>1113818641336688641</th>\n",
              "      <td>NakaS</td>\n",
              "      <td>https://twitter.com/StartedTwittter</td>\n",
              "      <td>何かになりたい渋谷のエンジニア</td>\n",
              "      <td>None</td>\n",
              "    </tr>\n",
              "    <tr>\n",
              "      <th>521513445</th>\n",
              "      <td>ばんり / Banri Yanahama</td>\n",
              "      <td>https://twitter.com/banri_yanahama</td>\n",
              "      <td>京大院卒 / DeNA / エンジニア / 機械学習</td>\n",
              "      <td>None</td>\n",
              "    </tr>\n",
              "    <tr>\n",
              "      <th>2819366924</th>\n",
              "      <td>スイ</td>\n",
              "      <td>https://twitter.com/uni745e</td>\n",
              "      <td>AtCoder: 水、Pythonで競プロしてます</td>\n",
              "      <td>None</td>\n",
              "    </tr>\n",
              "    <tr>\n",
              "      <th>36297164</th>\n",
              "      <td>えじ｜Amane Suzuki</td>\n",
              "      <td>https://twitter.com/SakuEji</td>\n",
              "      <td>DeNAでデータサイエンティストをしています。Kaggle Master。AtCoder水色...</td>\n",
              "      <td>https://t.co/b3U8GaCsQ0</td>\n",
              "    </tr>\n",
              "    <tr>\n",
              "      <th>5787442</th>\n",
              "      <td>yhirano55</td>\n",
              "      <td>https://twitter.com/yoshi_hirano</td>\n",
              "      <td>Freelance Programmer / a.k.a. カルパス / 柴犬 / 音楽: ...</td>\n",
              "      <td>https://t.co/mo3uxmP7pQ</td>\n",
              "    </tr>\n",
              "    <tr>\n",
              "      <th>2332514653</th>\n",
              "      <td>かちゃ</td>\n",
              "      <td>https://twitter.com/karrrrraage</td>\n",
              "      <td>ガチで渋谷OLやってます / チャイニーズ / アメリカンドッグ・ノンシリコンシャンプー・ク...</td>\n",
              "      <td>None</td>\n",
              "    </tr>\n",
              "    <tr>\n",
              "      <th>1883167934</th>\n",
              "      <td>Takumi Karasawa</td>\n",
              "      <td>https://twitter.com/zaki_krsw</td>\n",
              "      <td>Harada Lab., UTokyo / AI Research Engineer at ...</td>\n",
              "      <td>https://t.co/jIZfJKw9my</td>\n",
              "    </tr>\n",
              "  </tbody>\n",
              "</table>\n",
              "</div>"
            ],
            "text/plain": [
              "                                     name  ...                  my_page\n",
              "1113768585577488384       Shota Hashimoto  ...                     None\n",
              "1055057801951596544          tatatatataro  ...  https://t.co/4u3d2irH9h\n",
              "1112926435977523201                  はっしー  ...                     None\n",
              "1113818641336688641                 NakaS  ...                     None\n",
              "521513445            ばんり / Banri Yanahama  ...                     None\n",
              "2819366924                             スイ  ...                     None\n",
              "36297164                  えじ｜Amane Suzuki  ...  https://t.co/b3U8GaCsQ0\n",
              "5787442                         yhirano55  ...  https://t.co/mo3uxmP7pQ\n",
              "2332514653                            かちゃ  ...                     None\n",
              "1883167934                Takumi Karasawa  ...  https://t.co/jIZfJKw9my\n",
              "\n",
              "[10 rows x 4 columns]"
            ]
          },
          "metadata": {
            "tags": []
          },
          "execution_count": 44
        }
      ]
    },
    {
      "cell_type": "markdown",
      "metadata": {
        "id": "Le5xfl01zNb5",
        "colab_type": "text"
      },
      "source": [
        "↓ CSV書き出し"
      ]
    },
    {
      "cell_type": "code",
      "metadata": {
        "id": "qKRKEMZpzQLK",
        "colab_type": "code",
        "colab": {}
      },
      "source": [
        "candidate_friends_df.to_csv(\"candidate_friends.csv\")\n",
        "files.download(\"candidate_friends.csv\")"
      ],
      "execution_count": 0,
      "outputs": []
    },
    {
      "cell_type": "code",
      "metadata": {
        "id": "tb8o8Bi-Qc5w",
        "colab_type": "code",
        "colab": {}
      },
      "source": [
        "candidate_followers_df.to_csv(\"candidate_followers.csv\")\n",
        "files.download(\"candidate_followers.csv\")"
      ],
      "execution_count": 0,
      "outputs": []
    }
  ]
}